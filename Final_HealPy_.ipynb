{
  "nbformat": 4,
  "nbformat_minor": 0,
  "metadata": {
    "colab": {
      "name": "Final HealPy .ipynb",
      "provenance": [],
      "collapsed_sections": [],
      "authorship_tag": "ABX9TyOTEKK3/QNypbd7RmnrVohf"
    },
    "kernelspec": {
      "name": "python3",
      "display_name": "Python 3"
    },
    "language_info": {
      "name": "python"
    }
  },
  "cells": [
    {
      "cell_type": "code",
      "source": [
        "from google.colab import drive\n",
        "drive.mount('/content/drive')"
      ],
      "metadata": {
        "id": "qkjj9LJp5SH9"
      },
      "execution_count": null,
      "outputs": []
    },
    {
      "cell_type": "code",
      "source": [
        "!pip -q install healpy\n",
        "!pip install git+https://github.com/vafaei-ar/ccgpack.git"
      ],
      "metadata": {
        "id": "IWLp7kh95Snk",
        "colab": {
          "base_uri": "https://localhost:8080/"
        },
        "outputId": "5343823e-2256-4c46-b27e-0d20b0147688"
      },
      "execution_count": null,
      "outputs": [
        {
          "output_type": "stream",
          "name": "stdout",
          "text": [
            "\u001b[K     |████████████████████████████████| 23.6 MB 1.4 MB/s \n",
            "\u001b[?25hCollecting git+https://github.com/vafaei-ar/ccgpack.git\n",
            "  Cloning https://github.com/vafaei-ar/ccgpack.git to /tmp/pip-req-build-7h_ar89d\n",
            "  Running command git clone -q https://github.com/vafaei-ar/ccgpack.git /tmp/pip-req-build-7h_ar89d\n",
            "Building wheels for collected packages: ccgpack\n",
            "  Building wheel for ccgpack (setup.py) ... \u001b[?25l\u001b[?25hdone\n",
            "  Created wheel for ccgpack: filename=ccgpack-0.1.0-cp37-cp37m-linux_x86_64.whl size=912871 sha256=8dd2c87fe0717553fe36cf00eeac9f2bafe8474829f0bef0b3d3fa4234a068fc\n",
            "  Stored in directory: /tmp/pip-ephem-wheel-cache-16m4a57c/wheels/12/6f/95/7ae57565d174cea0e92a0da0a36f289e045f46ef2173da656b\n",
            "Successfully built ccgpack\n",
            "Installing collected packages: ccgpack\n",
            "Successfully installed ccgpack-0.1.0\n"
          ]
        }
      ]
    },
    {
      "cell_type": "code",
      "source": [
        "import numpy as np\n",
        "import healpy as hp\n",
        "import pylab as plt\n",
        "import ccgpack as ccg"
      ],
      "metadata": {
        "id": "pdHdqFUc5Z9f"
      },
      "execution_count": null,
      "outputs": []
    },
    {
      "cell_type": "code",
      "source": [
        "map = '/content/drive/MyDrive/CMB/map1n_allz_rtaapixlw_2048_1.fits'\n",
        "string_map = hp.read_map(map,nest=1,verbose=0)"
      ],
      "metadata": {
        "id": "PgDBfoAX5d-2",
        "colab": {
          "base_uri": "https://localhost:8080/"
        },
        "outputId": "34b16783-272e-4abe-9dce-aad89a91595c"
      },
      "execution_count": null,
      "outputs": [
        {
          "output_type": "stream",
          "name": "stderr",
          "text": [
            "WARNING: AstropyDeprecationWarning: \"verbose\" was deprecated in version 1.15.0 and will be removed in a future version.  [warnings]\n"
          ]
        }
      ]
    },
    {
      "cell_type": "code",
      "source": [
        "gauss = \"/content/drive/MyDrive/CMB/product-action?SIMULATED_MAP.FILE_ID=febecop_ffp10_lensed_scl_cmb_100_mc_0000.fits\"\n",
        "gaussian_map = hp.read_map(gauss,nest=1,verbose=0)"
      ],
      "metadata": {
        "id": "kkp7DZvk5d8T",
        "colab": {
          "base_uri": "https://localhost:8080/"
        },
        "outputId": "dd8cfade-9932-4f88-ef4f-d101c1b60695"
      },
      "execution_count": null,
      "outputs": [
        {
          "output_type": "stream",
          "name": "stderr",
          "text": [
            "WARNING: AstropyDeprecationWarning: \"verbose\" was deprecated in version 1.15.0 and will be removed in a future version.  [warnings]\n"
          ]
        }
      ]
    },
    {
      "cell_type": "code",
      "source": [
        "g_mu = 1e-6\n",
        "cmb_with_string = gaussian_map + (g_mu * string_map)"
      ],
      "metadata": {
        "id": "Ao-eyPTA5d5b"
      },
      "execution_count": null,
      "outputs": []
    },
    {
      "cell_type": "markdown",
      "source": [
        "\n",
        "\n",
        "\n",
        "# Power Spectrum------------------------------------------------------------------------"
      ],
      "metadata": {
        "id": "3EA5qID7Q_oX"
      }
    },
    {
      "cell_type": "code",
      "source": [
        "g_map = hp.sphtfunc.anafast(gaussian_map)"
      ],
      "metadata": {
        "id": "T3-6pxcx5d2z"
      },
      "execution_count": null,
      "outputs": []
    },
    {
      "cell_type": "code",
      "source": [
        "s_map = hp.sphtfunc.anafast(string_map)"
      ],
      "metadata": {
        "id": "9RZ5s9fUEqeH"
      },
      "execution_count": null,
      "outputs": []
    },
    {
      "cell_type": "code",
      "source": [
        "CMB_map = hp.sphtfunc.anafast(cmb_with_string)"
      ],
      "metadata": {
        "id": "amSvI1RHQpi6"
      },
      "execution_count": null,
      "outputs": []
    },
    {
      "cell_type": "code",
      "source": [
        "l =  np.arange(0, 1024, 1024)\n",
        "y1 = l * (l + 1) * g_map\n",
        "y2 = l * (l + 1) * s_map\n",
        "y3 = l * (l + 1) * CMB_map"
      ],
      "metadata": {
        "id": "BHWzJDOE5dn7"
      },
      "execution_count": null,
      "outputs": []
    },
    {
      "cell_type": "code",
      "source": [
        "plt.figure(figsize = (25, 8))\n",
        "plt.subplot(1, 3, 1)\n",
        "plt.plot(l, y1, label = \"Gaussian\")\n",
        "plt.xlabel(\"l\")\n",
        "plt.subplot(1, 3, 2)\n",
        "plt.plot(l, y2, label = \"String\")\n",
        "plt.xlabel(\"l\")\n",
        "plt.subplot(1, 3, 3)\n",
        "plt.plot(l, y3, label = \"CMB with String\")\n",
        "plt.xlabel(\"l\")\n",
        "plt.legend()\n",
        "plt.show()"
      ],
      "metadata": {
        "id": "lPOdZsjpI1qP"
      },
      "execution_count": null,
      "outputs": []
    },
    {
      "cell_type": "code",
      "source": [
        "ss_map = s_map * g_mu *0.5*1e-4\n",
        "f = l * (l + 1) * ss_map"
      ],
      "metadata": {
        "id": "63M6C-2RWpej"
      },
      "execution_count": null,
      "outputs": []
    },
    {
      "cell_type": "code",
      "source": [
        "plt.plot()"
      ],
      "metadata": {
        "colab": {
          "base_uri": "https://localhost:8080/",
          "height": 282
        },
        "id": "fNxp00JO-voU",
        "outputId": "0306fe84-9990-4062-ef2c-26c3b056bbe8"
      },
      "execution_count": null,
      "outputs": [
        {
          "output_type": "execute_result",
          "data": {
            "text/plain": [
              "[]"
            ]
          },
          "metadata": {},
          "execution_count": 23
        },
        {
          "output_type": "display_data",
          "data": {
            "image/png": "[encoded data removed]",
            "text/plain": [
              "<Figure size 432x288 with 1 Axes>"
            ]
          },
          "metadata": {
            "needs_background": "light"
          }
        }
      ]
    }
  ]
}