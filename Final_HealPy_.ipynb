{
  "nbformat": 4,
  "nbformat_minor": 0,
  "metadata": {
    "colab": {
      "name": "Final HealPy .ipynb",
      "provenance": [],
      "collapsed_sections": [],
      "authorship_tag": "ABX9TyMqHW5noVayaPOZkDiTCdpF"
    },
    "kernelspec": {
      "name": "python3",
      "display_name": "Python 3"
    },
    "language_info": {
      "name": "python"
    }
  },
  "cells": [
    {
      "cell_type": "code",
      "source": [
        "from google.colab import drive\n",
        "drive.mount('/content/drive')"
      ],
      "metadata": {
        "id": "qkjj9LJp5SH9"
      },
      "execution_count": null,
      "outputs": []
    },
    {
      "cell_type": "code",
      "source": [
        "!pip -q install healpy\n",
        "!pip install git+https://github.com/vafaei-ar/ccgpack.git"
      ],
      "metadata": {
        "id": "IWLp7kh95Snk"
      },
      "execution_count": null,
      "outputs": []
    },
    {
      "cell_type": "code",
      "source": [
        "import numpy as np\n",
        "import healpy as hp\n",
        "import pylab as plt\n",
        "import ccgpack as ccg"
      ],
      "metadata": {
        "id": "pdHdqFUc5Z9f"
      },
      "execution_count": 4,
      "outputs": []
    },
    {
      "cell_type": "code",
      "source": [
        "map = '/content/drive/MyDrive/CMB/map1n_allz_rtaapixlw_2048_1.fits'\n",
        "string_map = hp.read_map(map,nest=1,verbose=0)"
      ],
      "metadata": {
        "id": "PgDBfoAX5d-2"
      },
      "execution_count": 5,
      "outputs": []
    },
    {
      "cell_type": "code",
      "source": [
        "gauss = \"/content/drive/MyDrive/CMB/product-action?SIMULATED_MAP.FILE_ID=febecop_ffp10_lensed_scl_cmb_100_mc_0000.fits\"\n",
        "gaussian_map = hp.read_map(gauss,nest=1,verbose=0)"
      ],
      "metadata": {
        "id": "kkp7DZvk5d8T"
      },
      "execution_count": 6,
      "outputs": []
    },
    {
      "cell_type": "code",
      "source": [
        "g_mu = 1e-6\n",
        "cmb_with_string = gaussian_map + (g_mu * string_map)"
      ],
      "metadata": {
        "id": "Ao-eyPTA5d5b"
      },
      "execution_count": 7,
      "outputs": []
    },
    {
      "cell_type": "code",
      "source": [
        "g_s_map = hp.sphtfunc.anafast(gaussian_map , string_map)"
      ],
      "metadata": {
        "id": "T3-6pxcx5d2z"
      },
      "execution_count": 9,
      "outputs": []
    },
    {
      "cell_type": "code",
      "source": [
        ""
      ],
      "metadata": {
        "id": "akTi4p7F5dz8"
      },
      "execution_count": null,
      "outputs": []
    },
    {
      "cell_type": "code",
      "source": [
        ""
      ],
      "metadata": {
        "id": "F_FSjzsQ5dxb"
      },
      "execution_count": null,
      "outputs": []
    },
    {
      "cell_type": "code",
      "source": [
        ""
      ],
      "metadata": {
        "id": "BHWzJDOE5dn7"
      },
      "execution_count": null,
      "outputs": []
    }
  ]
}